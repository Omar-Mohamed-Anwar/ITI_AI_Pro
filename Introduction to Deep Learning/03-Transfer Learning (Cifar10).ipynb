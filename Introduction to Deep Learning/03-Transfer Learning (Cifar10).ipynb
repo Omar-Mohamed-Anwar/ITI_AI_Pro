{
  "cells": [
    {
      "cell_type": "code",
      "execution_count": 1,
      "metadata": {
        "id": "Xvn9BRi0sP-Q"
      },
      "outputs": [],
      "source": [
        "import tensorflow as tf\n",
        "from tensorflow.keras.datasets import cifar10\n",
        "from tensorflow.keras.models import Sequential\n",
        "from tensorflow.keras.applications import VGG16\n",
        "from tensorflow.keras.applications.imagenet_utils import preprocess_input\n",
        "from tensorflow.keras.preprocessing.image import ImageDataGenerator\n",
        "from tensorflow.keras.optimizers import Adam\n",
        "from keras.utils import to_categorical\n",
        "from tensorflow.keras.layers import Dense, Dropout, Flatten\n",
        "import matplotlib.pyplot as plt "
      ]
    },
    {
      "cell_type": "code",
      "execution_count": 2,
      "metadata": {
        "colab": {
          "base_uri": "https://localhost:8080/"
        },
        "id": "bWB1h3PasQ1Z",
        "outputId": "5afea999-fc12-4ca5-e798-9d5c53ef18c6"
      },
      "outputs": [
        {
          "name": "stdout",
          "output_type": "stream",
          "text": [
            "Downloading data from https://www.cs.toronto.edu/~kriz/cifar-10-python.tar.gz\n",
            "170498071/170498071 [==============================] - 29s 0us/step\n"
          ]
        }
      ],
      "source": [
        "(x_train, y_train), (x_test, y_test) = cifar10.load_data()"
      ]
    },
    {
      "cell_type": "code",
      "execution_count": 3,
      "metadata": {
        "id": "r689CGHEsQ4T"
      },
      "outputs": [],
      "source": [
        "y_train = to_categorical(y_train, num_classes=10)\n",
        "y_test = to_categorical(y_test, num_classes=10)"
      ]
    },
    {
      "cell_type": "code",
      "execution_count": 4,
      "metadata": {
        "colab": {
          "base_uri": "https://localhost:8080/"
        },
        "id": "KfKWhsYvsQ7p",
        "outputId": "cd75d6bd-a89e-45f1-bf6e-665eb4a489ce"
      },
      "outputs": [
        {
          "name": "stdout",
          "output_type": "stream",
          "text": [
            "Downloading data from https://storage.googleapis.com/tensorflow/keras-applications/vgg16/vgg16_weights_tf_dim_ordering_tf_kernels_notop.h5\n",
            "58889256/58889256 [==============================] - 3s 0us/step\n"
          ]
        }
      ],
      "source": [
        "base_model = VGG16(input_shape=(32, 32, 3), include_top=False, weights='imagenet')"
      ]
    },
    {
      "cell_type": "code",
      "execution_count": 5,
      "metadata": {
        "id": "YyJFozBksQ-y"
      },
      "outputs": [],
      "source": [
        "for layer in base_model.layers:\n",
        "    layer.trainable = False"
      ]
    },
    {
      "cell_type": "code",
      "execution_count": 6,
      "metadata": {
        "id": "iOqV0gLesRBi"
      },
      "outputs": [],
      "source": [
        "model = Sequential()\n",
        "model.add(base_model)\n",
        "model.add(Flatten())\n",
        "model.add(Dense(256, activation='relu'))\n",
        "model.add(Dense(10, activation='softmax'))"
      ]
    },
    {
      "cell_type": "code",
      "execution_count": 7,
      "metadata": {
        "colab": {
          "base_uri": "https://localhost:8080/"
        },
        "id": "QbNHB103sREn",
        "outputId": "0bdbec16-631d-43a7-f8ca-e639bec5e5d9"
      },
      "outputs": [
        {
          "name": "stdout",
          "output_type": "stream",
          "text": [
            "Model: \"sequential\"\n",
            "_________________________________________________________________\n",
            " Layer (type)                Output Shape              Param #   \n",
            "=================================================================\n",
            " vgg16 (Functional)          (None, 1, 1, 512)         14714688  \n",
            "                                                                 \n",
            " flatten (Flatten)           (None, 512)               0         \n",
            "                                                                 \n",
            " dense (Dense)               (None, 256)               131328    \n",
            "                                                                 \n",
            " dense_1 (Dense)             (None, 10)                2570      \n",
            "                                                                 \n",
            "=================================================================\n",
            "Total params: 14,848,586\n",
            "Trainable params: 133,898\n",
            "Non-trainable params: 14,714,688\n",
            "_________________________________________________________________\n"
          ]
        }
      ],
      "source": [
        "model.summary()"
      ]
    },
    {
      "cell_type": "code",
      "execution_count": 8,
      "metadata": {
        "id": "49-ASmcKsRHq"
      },
      "outputs": [],
      "source": [
        "train_generator  = ImageDataGenerator(\n",
        "    preprocessing_function=preprocess_input,\n",
        "      rotation_range=40, \n",
        "      width_shift_range=0.2,\n",
        "      height_shift_range=0.2,\n",
        "      shear_range=0.2,\n",
        "      zoom_range=0.2,\n",
        "      horizontal_flip=True,\n",
        "      fill_mode='nearest'\n",
        ")\n",
        "\n",
        "val_generator = ImageDataGenerator(\n",
        "preprocessing_function=preprocess_input)"
      ]
    },
    {
      "cell_type": "code",
      "execution_count": 9,
      "metadata": {
        "id": "jHByMUbAsRN8"
      },
      "outputs": [],
      "source": [
        "train_generator.fit(x_train)\n",
        "val_generator.fit(x_test)"
      ]
    },
    {
      "cell_type": "code",
      "execution_count": 10,
      "metadata": {
        "id": "5Z0SLHZ3sRRJ"
      },
      "outputs": [],
      "source": [
        "model.compile(\n",
        "    loss='categorical_crossentropy',\n",
        "    optimizer=Adam(learning_rate=0.0001),\n",
        "    metrics=['accuracy']\n",
        ")"
      ]
    },
    {
      "cell_type": "code",
      "execution_count": 11,
      "metadata": {
        "colab": {
          "base_uri": "https://localhost:8080/"
        },
        "id": "Tj9Bz7YWsRUR",
        "outputId": "b2114fb3-4111-41a7-f43a-93c7f7484e8c"
      },
      "outputs": [
        {
          "name": "stdout",
          "output_type": "stream",
          "text": [
            "Epoch 1/30\n",
            "1562/1562 [==============================] - 59s 31ms/step - loss: 4.9661 - accuracy: 0.3677 - val_loss: 2.9966 - val_accuracy: 0.4820\n",
            "Epoch 2/30\n",
            "1562/1562 [==============================] - 49s 31ms/step - loss: 2.7451 - accuracy: 0.4460 - val_loss: 2.1837 - val_accuracy: 0.5107\n",
            "Epoch 3/30\n",
            "1562/1562 [==============================] - 49s 31ms/step - loss: 2.0903 - accuracy: 0.4706 - val_loss: 1.7670 - val_accuracy: 0.5309\n",
            "Epoch 4/30\n",
            "1562/1562 [==============================] - 49s 32ms/step - loss: 1.7365 - accuracy: 0.4930 - val_loss: 1.5004 - val_accuracy: 0.5519\n",
            "Epoch 5/30\n",
            "1562/1562 [==============================] - 49s 31ms/step - loss: 1.5257 - accuracy: 0.5077 - val_loss: 1.3413 - val_accuracy: 0.5706\n",
            "Epoch 6/30\n",
            "1562/1562 [==============================] - 48s 31ms/step - loss: 1.4065 - accuracy: 0.5266 - val_loss: 1.2836 - val_accuracy: 0.5786\n",
            "Epoch 7/30\n",
            "1562/1562 [==============================] - 48s 31ms/step - loss: 1.3304 - accuracy: 0.5442 - val_loss: 1.2242 - val_accuracy: 0.5922\n",
            "Epoch 8/30\n",
            "1562/1562 [==============================] - 49s 31ms/step - loss: 1.2741 - accuracy: 0.5600 - val_loss: 1.1668 - val_accuracy: 0.6051\n",
            "Epoch 9/30\n",
            "1562/1562 [==============================] - 48s 31ms/step - loss: 1.2399 - accuracy: 0.5699 - val_loss: 1.1376 - val_accuracy: 0.6115\n",
            "Epoch 10/30\n",
            "1562/1562 [==============================] - 48s 31ms/step - loss: 1.2173 - accuracy: 0.5746 - val_loss: 1.1211 - val_accuracy: 0.6170\n",
            "Epoch 11/30\n",
            "1562/1562 [==============================] - 48s 31ms/step - loss: 1.1952 - accuracy: 0.5839 - val_loss: 1.1191 - val_accuracy: 0.6244\n",
            "Epoch 12/30\n",
            "1562/1562 [==============================] - 48s 31ms/step - loss: 1.1749 - accuracy: 0.5909 - val_loss: 1.0984 - val_accuracy: 0.6288\n",
            "Epoch 13/30\n",
            "1562/1562 [==============================] - 48s 31ms/step - loss: 1.1672 - accuracy: 0.5925 - val_loss: 1.0794 - val_accuracy: 0.6327\n",
            "Epoch 14/30\n",
            "1562/1562 [==============================] - 48s 31ms/step - loss: 1.1460 - accuracy: 0.5975 - val_loss: 1.0839 - val_accuracy: 0.6339\n",
            "Epoch 15/30\n",
            "1562/1562 [==============================] - 49s 31ms/step - loss: 1.1387 - accuracy: 0.6025 - val_loss: 1.0723 - val_accuracy: 0.6350\n",
            "Epoch 16/30\n",
            "1562/1562 [==============================] - 48s 31ms/step - loss: 1.1280 - accuracy: 0.6044 - val_loss: 1.0697 - val_accuracy: 0.6374\n",
            "Epoch 17/30\n",
            "1562/1562 [==============================] - 48s 31ms/step - loss: 1.1226 - accuracy: 0.6066 - val_loss: 1.0795 - val_accuracy: 0.6363\n",
            "Epoch 18/30\n",
            "1562/1562 [==============================] - 48s 30ms/step - loss: 1.1059 - accuracy: 0.6127 - val_loss: 1.0699 - val_accuracy: 0.6419\n",
            "Epoch 19/30\n",
            "1562/1562 [==============================] - 48s 31ms/step - loss: 1.1011 - accuracy: 0.6166 - val_loss: 1.0606 - val_accuracy: 0.6440\n",
            "Epoch 20/30\n",
            "1562/1562 [==============================] - 49s 31ms/step - loss: 1.0988 - accuracy: 0.6131 - val_loss: 1.0603 - val_accuracy: 0.6395\n",
            "Epoch 21/30\n",
            "1562/1562 [==============================] - 48s 31ms/step - loss: 1.0907 - accuracy: 0.6197 - val_loss: 1.0615 - val_accuracy: 0.6426\n",
            "Epoch 22/30\n",
            "1562/1562 [==============================] - 48s 31ms/step - loss: 1.0828 - accuracy: 0.6210 - val_loss: 1.0579 - val_accuracy: 0.6400\n",
            "Epoch 23/30\n",
            "1562/1562 [==============================] - 48s 31ms/step - loss: 1.0783 - accuracy: 0.6199 - val_loss: 1.0598 - val_accuracy: 0.6450\n",
            "Epoch 24/30\n",
            "1562/1562 [==============================] - 48s 31ms/step - loss: 1.0746 - accuracy: 0.6231 - val_loss: 1.0656 - val_accuracy: 0.6401\n",
            "Epoch 25/30\n",
            "1562/1562 [==============================] - 49s 31ms/step - loss: 1.0732 - accuracy: 0.6244 - val_loss: 1.0541 - val_accuracy: 0.6453\n",
            "Epoch 26/30\n",
            "1562/1562 [==============================] - 49s 31ms/step - loss: 1.0611 - accuracy: 0.6304 - val_loss: 1.0521 - val_accuracy: 0.6456\n",
            "Epoch 27/30\n",
            "1562/1562 [==============================] - 48s 31ms/step - loss: 1.0590 - accuracy: 0.6276 - val_loss: 1.0496 - val_accuracy: 0.6472\n",
            "Epoch 28/30\n",
            "1562/1562 [==============================] - 48s 31ms/step - loss: 1.0573 - accuracy: 0.6298 - val_loss: 1.0396 - val_accuracy: 0.6453\n",
            "Epoch 29/30\n",
            "1562/1562 [==============================] - 48s 31ms/step - loss: 1.0488 - accuracy: 0.6339 - val_loss: 1.0261 - val_accuracy: 0.6524\n",
            "Epoch 30/30\n",
            "1562/1562 [==============================] - 48s 31ms/step - loss: 1.0445 - accuracy: 0.6336 - val_loss: 1.0528 - val_accuracy: 0.6430\n"
          ]
        }
      ],
      "source": [
        "history=model.fit(train_generator.flow(x_train,y_train,batch_size=32),\n",
        "                      epochs=30,\n",
        "                      steps_per_epoch=x_train.shape[0]//32,\n",
        "                      validation_data=val_generator.flow(x_test,y_test,batch_size=32),validation_steps=250,\n",
        "                      verbose=1)"
      ]
    },
    {
      "cell_type": "code",
      "execution_count": 12,
      "metadata": {
        "colab": {
          "base_uri": "https://localhost:8080/",
          "height": 545
        },
        "id": "lEQIZBFYtQVO",
        "outputId": "531f1fb0-9294-4db5-dbaf-183712cca9ad"
      },
      "outputs": [
        {
          "data": {
            "image/png": "[encoded data removed]",
            "text/plain": [
              "<Figure size 432x288 with 1 Axes>"
            ]
          },
          "metadata": {
            "needs_background": "light"
          },
          "output_type": "display_data"
        },
        {
          "data": {
            "image/png": "[encoded data removed]",
            "text/plain": [
              "<Figure size 432x288 with 1 Axes>"
            ]
          },
          "metadata": {
            "needs_background": "light"
          },
          "output_type": "display_data"
        }
      ],
      "source": [
        "acc = history.history['accuracy']\n",
        "val_acc = history.history['val_accuracy']\n",
        "loss = history.history['loss']\n",
        "val_loss = history.history['val_loss']\n",
        "\n",
        "epochs = range(len(acc))\n",
        "\n",
        "plt.plot(epochs, acc, 'bo', label='Training acc')\n",
        "plt.plot(epochs, val_acc, 'b', label='Validation acc')\n",
        "plt.title('Training and validation accuracy')\n",
        "plt.legend()\n",
        "\n",
        "plt.figure()\n",
        "\n",
        "plt.plot(epochs, loss, 'bo', label='Training loss')\n",
        "plt.plot(epochs, val_loss, 'b', label='Validation loss')\n",
        "plt.title('Training and validation loss')\n",
        "plt.legend()\n",
        "\n",
        "plt.show()"
      ]
    },
    {
      "cell_type": "code",
      "execution_count": 13,
      "metadata": {
        "colab": {
          "base_uri": "https://localhost:8080/"
        },
        "id": "24z5vmZmtQiR",
        "outputId": "4040ab03-47e9-4736-8876-1be6a6a90a94"
      },
      "outputs": [
        {
          "name": "stdout",
          "output_type": "stream",
          "text": [
            "Model: \"vgg16\"\n",
            "_________________________________________________________________\n",
            " Layer (type)                Output Shape              Param #   \n",
            "=================================================================\n",
            " input_1 (InputLayer)        [(None, 32, 32, 3)]       0         \n",
            "                                                                 \n",
            " block1_conv1 (Conv2D)       (None, 32, 32, 64)        1792      \n",
            "                                                                 \n",
            " block1_conv2 (Conv2D)       (None, 32, 32, 64)        36928     \n",
            "                                                                 \n",
            " block1_pool (MaxPooling2D)  (None, 16, 16, 64)        0         \n",
            "                                                                 \n",
            " block2_conv1 (Conv2D)       (None, 16, 16, 128)       73856     \n",
            "                                                                 \n",
            " block2_conv2 (Conv2D)       (None, 16, 16, 128)       147584    \n",
            "                                                                 \n",
            " block2_pool (MaxPooling2D)  (None, 8, 8, 128)         0         \n",
            "                                                                 \n",
            " block3_conv1 (Conv2D)       (None, 8, 8, 256)         295168    \n",
            "                                                                 \n",
            " block3_conv2 (Conv2D)       (None, 8, 8, 256)         590080    \n",
            "                                                                 \n",
            " block3_conv3 (Conv2D)       (None, 8, 8, 256)         590080    \n",
            "                                                                 \n",
            " block3_pool (MaxPooling2D)  (None, 4, 4, 256)         0         \n",
            "                                                                 \n",
            " block4_conv1 (Conv2D)       (None, 4, 4, 512)         1180160   \n",
            "                                                                 \n",
            " block4_conv2 (Conv2D)       (None, 4, 4, 512)         2359808   \n",
            "                                                                 \n",
            " block4_conv3 (Conv2D)       (None, 4, 4, 512)         2359808   \n",
            "                                                                 \n",
            " block4_pool (MaxPooling2D)  (None, 2, 2, 512)         0         \n",
            "                                                                 \n",
            " block5_conv1 (Conv2D)       (None, 2, 2, 512)         2359808   \n",
            "                                                                 \n",
            " block5_conv2 (Conv2D)       (None, 2, 2, 512)         2359808   \n",
            "                                                                 \n",
            " block5_conv3 (Conv2D)       (None, 2, 2, 512)         2359808   \n",
            "                                                                 \n",
            " block5_pool (MaxPooling2D)  (None, 1, 1, 512)         0         \n",
            "                                                                 \n",
            "=================================================================\n",
            "Total params: 14,714,688\n",
            "Trainable params: 0\n",
            "Non-trainable params: 14,714,688\n",
            "_________________________________________________________________\n"
          ]
        }
      ],
      "source": [
        "base_model.summary()"
      ]
    },
    {
      "cell_type": "code",
      "execution_count": 14,
      "metadata": {
        "id": "17raXDhltQoM"
      },
      "outputs": [],
      "source": [
        "base_model.trainable = True\n",
        "\n",
        "set_trainable = False\n",
        "for layer in base_model.layers:\n",
        "    if layer.name == 'block5_conv1':\n",
        "        set_trainable = True\n",
        "    if set_trainable:\n",
        "        layer.trainable = True\n",
        "    else:\n",
        "        layer.trainable = False"
      ]
    },
    {
      "cell_type": "code",
      "execution_count": 15,
      "metadata": {
        "id": "nWEAYggEsRXx"
      },
      "outputs": [],
      "source": [
        "model.compile(\n",
        "    loss='categorical_crossentropy',\n",
        "    optimizer=Adam(learning_rate=1e-5),\n",
        "    metrics=['accuracy']\n",
        ")"
      ]
    },
    {
      "cell_type": "code",
      "execution_count": 16,
      "metadata": {
        "colab": {
          "base_uri": "https://localhost:8080/"
        },
        "id": "E_anM8dEsRap",
        "outputId": "b82e764d-7e7b-4478-db8e-fa6bea53c4b9"
      },
      "outputs": [
        {
          "name": "stdout",
          "output_type": "stream",
          "text": [
            "Epoch 1/30\n",
            "1562/1562 [==============================] - 52s 31ms/step - loss: 1.0032 - accuracy: 0.6501 - val_loss: 0.9468 - val_accuracy: 0.6789\n",
            "Epoch 2/30\n",
            "1562/1562 [==============================] - 48s 31ms/step - loss: 0.9399 - accuracy: 0.6713 - val_loss: 0.8674 - val_accuracy: 0.7020\n",
            "Epoch 3/30\n",
            "1562/1562 [==============================] - 49s 31ms/step - loss: 0.8966 - accuracy: 0.6850 - val_loss: 0.8589 - val_accuracy: 0.7128\n",
            "Epoch 4/30\n",
            "1562/1562 [==============================] - 50s 32ms/step - loss: 0.8651 - accuracy: 0.6963 - val_loss: 0.8639 - val_accuracy: 0.7084\n",
            "Epoch 5/30\n",
            "1562/1562 [==============================] - 49s 31ms/step - loss: 0.8350 - accuracy: 0.7067 - val_loss: 0.8326 - val_accuracy: 0.7170\n",
            "Epoch 6/30\n",
            "1562/1562 [==============================] - 50s 32ms/step - loss: 0.8140 - accuracy: 0.7142 - val_loss: 0.8062 - val_accuracy: 0.7300\n",
            "Epoch 7/30\n",
            "1562/1562 [==============================] - 50s 32ms/step - loss: 0.7870 - accuracy: 0.7233 - val_loss: 0.8258 - val_accuracy: 0.7249\n",
            "Epoch 8/30\n",
            "1562/1562 [==============================] - 49s 31ms/step - loss: 0.7726 - accuracy: 0.7277 - val_loss: 0.7854 - val_accuracy: 0.7370\n",
            "Epoch 9/30\n",
            "1562/1562 [==============================] - 48s 31ms/step - loss: 0.7553 - accuracy: 0.7321 - val_loss: 0.7810 - val_accuracy: 0.7362\n",
            "Epoch 10/30\n",
            "1562/1562 [==============================] - 47s 30ms/step - loss: 0.7351 - accuracy: 0.7397 - val_loss: 0.7511 - val_accuracy: 0.7473\n",
            "Epoch 11/30\n",
            "1562/1562 [==============================] - 48s 31ms/step - loss: 0.7254 - accuracy: 0.7466 - val_loss: 0.7850 - val_accuracy: 0.7404\n",
            "Epoch 12/30\n",
            "1562/1562 [==============================] - 47s 30ms/step - loss: 0.7161 - accuracy: 0.7495 - val_loss: 0.7756 - val_accuracy: 0.7410\n",
            "Epoch 13/30\n",
            "1562/1562 [==============================] - 47s 30ms/step - loss: 0.6962 - accuracy: 0.7539 - val_loss: 0.7457 - val_accuracy: 0.7530\n",
            "Epoch 14/30\n",
            "1562/1562 [==============================] - 47s 30ms/step - loss: 0.6885 - accuracy: 0.7567 - val_loss: 0.7520 - val_accuracy: 0.7534\n",
            "Epoch 15/30\n",
            "1562/1562 [==============================] - 47s 30ms/step - loss: 0.6728 - accuracy: 0.7632 - val_loss: 0.7351 - val_accuracy: 0.7561\n",
            "Epoch 16/30\n",
            "1562/1562 [==============================] - 48s 30ms/step - loss: 0.6673 - accuracy: 0.7649 - val_loss: 0.7639 - val_accuracy: 0.7536\n",
            "Epoch 17/30\n",
            "1562/1562 [==============================] - 48s 31ms/step - loss: 0.6541 - accuracy: 0.7679 - val_loss: 0.7644 - val_accuracy: 0.7510\n",
            "Epoch 18/30\n",
            "1562/1562 [==============================] - 48s 31ms/step - loss: 0.6438 - accuracy: 0.7720 - val_loss: 0.7376 - val_accuracy: 0.7564\n",
            "Epoch 19/30\n",
            "1562/1562 [==============================] - 48s 31ms/step - loss: 0.6299 - accuracy: 0.7771 - val_loss: 0.7286 - val_accuracy: 0.7654\n",
            "Epoch 20/30\n",
            "1562/1562 [==============================] - 48s 31ms/step - loss: 0.6199 - accuracy: 0.7790 - val_loss: 0.7274 - val_accuracy: 0.7607\n",
            "Epoch 21/30\n",
            "1562/1562 [==============================] - 49s 31ms/step - loss: 0.6141 - accuracy: 0.7846 - val_loss: 0.7438 - val_accuracy: 0.7570\n",
            "Epoch 22/30\n",
            "1562/1562 [==============================] - 48s 31ms/step - loss: 0.6039 - accuracy: 0.7853 - val_loss: 0.7257 - val_accuracy: 0.7664\n",
            "Epoch 23/30\n",
            "1562/1562 [==============================] - 47s 30ms/step - loss: 0.5899 - accuracy: 0.7911 - val_loss: 0.7425 - val_accuracy: 0.7589\n",
            "Epoch 24/30\n",
            "1562/1562 [==============================] - 47s 30ms/step - loss: 0.5899 - accuracy: 0.7907 - val_loss: 0.7176 - val_accuracy: 0.7701\n",
            "Epoch 25/30\n",
            "1562/1562 [==============================] - 48s 30ms/step - loss: 0.5842 - accuracy: 0.7954 - val_loss: 0.7371 - val_accuracy: 0.7631\n",
            "Epoch 26/30\n",
            "1562/1562 [==============================] - 47s 30ms/step - loss: 0.5707 - accuracy: 0.8001 - val_loss: 0.7541 - val_accuracy: 0.7599\n",
            "Epoch 27/30\n",
            "1562/1562 [==============================] - 48s 31ms/step - loss: 0.5596 - accuracy: 0.8027 - val_loss: 0.7463 - val_accuracy: 0.7638\n",
            "Epoch 28/30\n",
            "1562/1562 [==============================] - 48s 31ms/step - loss: 0.5616 - accuracy: 0.8019 - val_loss: 0.7487 - val_accuracy: 0.7610\n",
            "Epoch 29/30\n",
            "1562/1562 [==============================] - 48s 31ms/step - loss: 0.5522 - accuracy: 0.8063 - val_loss: 0.7173 - val_accuracy: 0.7729\n",
            "Epoch 30/30\n",
            "1562/1562 [==============================] - 48s 31ms/step - loss: 0.5411 - accuracy: 0.8089 - val_loss: 0.7387 - val_accuracy: 0.7728\n"
          ]
        }
      ],
      "source": [
        "history=model.fit(train_generator.flow(x_train,y_train,batch_size=32),\n",
        "                      epochs=30,\n",
        "                      steps_per_epoch=x_train.shape[0]//32,\n",
        "                      validation_data=val_generator.flow(x_test,y_test,batch_size=32),validation_steps=250,\n",
        "                      verbose=1)"
      ]
    },
    {
      "cell_type": "code",
      "execution_count": 17,
      "metadata": {
        "colab": {
          "base_uri": "https://localhost:8080/",
          "height": 545
        },
        "id": "TuRYCnKAsRjY",
        "outputId": "3e98bab1-61f2-43f5-c36c-45bc0f00d5fa"
      },
      "outputs": [
        {
          "data": {
            "image/png": "[encoded data removed]",
            "text/plain": [
              "<Figure size 432x288 with 1 Axes>"
            ]
          },
          "metadata": {
            "needs_background": "light"
          },
          "output_type": "display_data"
        },
        {
          "data": {
            "image/png": "[encoded data removed]",
            "text/plain": [
              "<Figure size 432x288 with 1 Axes>"
            ]
          },
          "metadata": {
            "needs_background": "light"
          },
          "output_type": "display_data"
        }
      ],
      "source": [
        "acc = history.history['accuracy']\n",
        "val_acc = history.history['val_accuracy']\n",
        "loss = history.history['loss']\n",
        "val_loss = history.history['val_loss']\n",
        "\n",
        "epochs = range(len(acc))\n",
        "\n",
        "plt.plot(epochs, acc, 'bo', label='Training acc')\n",
        "plt.plot(epochs, val_acc, 'b', label='Validation acc')\n",
        "plt.title('Training and validation accuracy')\n",
        "plt.legend()\n",
        "\n",
        "plt.figure()\n",
        "\n",
        "plt.plot(epochs, loss, 'bo', label='Training loss')\n",
        "plt.plot(epochs, val_loss, 'b', label='Validation loss')\n",
        "plt.title('Training and validation loss')\n",
        "plt.legend()\n",
        "\n",
        "plt.show()"
      ]
    },
    {
      "cell_type": "code",
      "execution_count": 18,
      "metadata": {
        "colab": {
          "base_uri": "https://localhost:8080/",
          "height": 545
        },
        "id": "4qiR1WMitZrv",
        "outputId": "10fec516-522f-4748-b000-80c443e5d273"
      },
      "outputs": [
        {
          "data": {
            "image/png": "[encoded data removed]",
            "text/plain": [
              "<Figure size 432x288 with 1 Axes>"
            ]
          },
          "metadata": {
            "needs_background": "light"
          },
          "output_type": "display_data"
        },
        {
          "data": {
            "image/png": "[encoded data removed]",
            "text/plain": [
              "<Figure size 432x288 with 1 Axes>"
            ]
          },
          "metadata": {
            "needs_background": "light"
          },
          "output_type": "display_data"
        }
      ],
      "source": [
        "acc = history.history['accuracy']\n",
        "val_acc = history.history['val_accuracy']\n",
        "loss = history.history['loss']\n",
        "val_loss = history.history['val_loss']\n",
        "\n",
        "epochs = range(len(acc))\n",
        "\n",
        "plt.plot(epochs, acc, 'bo', label='Training acc')\n",
        "plt.plot(epochs, val_acc, 'b', label='Validation acc')\n",
        "plt.title('Training and validation accuracy')\n",
        "plt.legend()\n",
        "\n",
        "plt.figure()\n",
        "\n",
        "plt.plot(epochs, loss, 'bo', label='Training loss')\n",
        "plt.plot(epochs, val_loss, 'b', label='Validation loss')\n",
        "plt.title('Training and validation loss')\n",
        "plt.legend()\n",
        "\n",
        "plt.show()"
      ]
    }
  ],
  "metadata": {
    "accelerator": "GPU",
    "colab": {
      "provenance": []
    },
    "gpuClass": "standard",
    "kernelspec": {
      "display_name": "Python 3",
      "name": "python3"
    },
    "language_info": {
      "name": "python"
    }
  },
  "nbformat": 4,
  "nbformat_minor": 0
}
